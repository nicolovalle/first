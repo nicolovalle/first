{
  "nbformat": 4,
  "nbformat_minor": 0,
  "metadata": {
    "colab": {
      "name": "notebook.ipynb",
      "provenance": [],
      "collapsed_sections": [],
      "authorship_tag": "ABX9TyPb8dKN5yoPrYWjHINOPvsU",
      "include_colab_link": true
    },
    "kernelspec": {
      "name": "python3",
      "display_name": "Python 3"
    },
    "language_info": {
      "name": "python"
    }
  },
  "cells": [
    {
      "cell_type": "markdown",
      "metadata": {
        "id": "view-in-github",
        "colab_type": "text"
      },
      "source": [
        "<a href=\"https://colab.research.google.com/github/nicolovalle/first/blob/master/notebook.ipynb\" target=\"_parent\"><img src=\"https://colab.research.google.com/assets/colab-badge.svg\" alt=\"Open In Colab\"/></a>"
      ]
    },
    {
      "cell_type": "markdown",
      "metadata": {
        "id": "AFJZE6qpoSJL"
      },
      "source": [
        "\n",
        "\n",
        "#*   Muon chambers bitmap\n",
        "\n",
        "\n",
        "\n",
        "1.   **Use the AliPhysics converter (`AliPhysics/RUN3/AliAnalysisTaskAO2Dconverter.*`) to save a MuonClusterMap into the AO2Ds** \n",
        "\n",
        "\n",
        "\n",
        "> From `AliAODTrack`:\n",
        ">\n",
        ">\n",
        ">>```\n",
        ">> Bool_t AliAODTrack::HitsMuonChamber(Int_t MuonChamber, Int_t cathode) const\n",
        ">>```\n",
        ">\n",
        ">>\n",
        ">>```\n",
        ">>UInt_t GetMUONClusterMap() const { return (fITSMuonClusterMap& 0x3ff0000)>>16; }\n",
        ">>```\n",
        ">\n",
        "> From `AliESDMuonTrack`:\n",
        ">\n",
        ">>`UInt_t   GetMuonClusterMap() const {return fMuonClusterMap;}`\n",
        ">\n",
        ">\n",
        ">Adding a Branch to the FwdTrack Tree:\n",
        ">\n",
        ">>```\n",
        ">>// Associate FwdTrack branches for MUON tracks\n",
        "  TTree *tFwdTrack = CreateTree(kFwdTrack);\n",
        "  if (fTreeStatus[kFwdTrack])\n",
        "  {\n",
        "    tFwdTrack->Branch(\"fIndexCollisions\", &fwdtracks.fIndexCollisions, \"fIndexCollisions/I\");\n",
        "    tFwdTrack->Branch(\"fIndexBCs\", &fwdtracks.fIndexBCs, \"fIndexBCs/I\");\n",
        "    tFwdTrack->Branch(\"fTrackType\", &fwdtracks.fTrackType, \"fTrackType/I\");\n",
        "    tFwdTrack->Branch(\"fX\", &fwdtracks.fX, \"fX/F\");\n",
        "    tFwdTrack->Branch(\"fY\", &fwdtracks.fY, \"fY/F\");\n",
        "    tFwdTrack->Branch(\"fZ\", &fwdtracks.fZ, \"fZ/F\");\n",
        "    tFwdTrack->Branch(\"fPhi\", &fwdtracks.fPhi, \"fPhi/F\");\n",
        "    tFwdTrack->Branch(\"fTgl\", &fwdtracks.fTgl, \"fTgl/F\");\n",
        "    tFwdTrack->Branch(\"fSigned1Pt\", &fwdtracks.fSigned1Pt, \"fSigned1Pt/F\");\n",
        "    tFwdTrack->Branch(\"fNClusters\", &fwdtracks.fNClusters, \"fNClusters/I\");\n",
        "    tFwdTrack->Branch(\"fPDca\", &fwdtracks.fPDca, \"fPDca/F\");\n",
        "    tFwdTrack->Branch(\"fRAtAbsorberEnd\", &fwdtracks.fRAtAbsorberEnd, \"fRAtAbsorberEnd/F\");\n",
        "    tFwdTrack->Branch(\"fChi2\", &fwdtracks.fChi2, \"fChi2/F\");\n",
        "    tFwdTrack->Branch(\"fChi2MatchMCHMID\", &fwdtracks.fChi2MatchMCHMID, \"fChi2MatchMCHMID/F\");\n",
        "    tFwdTrack->Branch(\"fChi2MatchMCHMFT\", &fwdtracks.fChi2MatchMCHMFT, \"fChi2MatchMCHMFT/F\");\n",
        "    tFwdTrack->Branch(\"fMatchScoreMCHMFT\", &fwdtracks.fMatchScoreMCHMFT, \"fMatchScoreMCHMFT/F\");\n",
        "    tFwdTrack->Branch(\"fMatchMFTTrackID\", &fwdtracks.fMatchMFTTrackID, \"fMatchMFTTrackID/I\");\n",
        "    tFwdTrack->Branch(\"fMatchMCHTrackID\", &fwdtracks.fMatchMCHTrackID, \"fMatchMCHTrackID/I\");\n",
        "    tFwdTrack->Branch(\"fMCHBitMap\", &fwdtracks.fMCHBitMap, \"fMCHBitMap/I\"); // <--------\n",
        "    tFwdTrack->SetBasketSize(\"*\", fBasketSizeEvents);\n",
        "  }\n",
        ">>```\n",
        ">>\n",
        ">Is there any difference: ?\n",
        ">\n",
        ">>`AliAnalysisTaskAO2Dconverter::MUONtoFwdTrack(AliESDMuonTrack &MUONTrack) {`\n",
        ">\n",
        ">>`AliAnalysisTaskAO2Dconverter::MUONtoFwdTrack(AliAODTrack &MUONTrack) {`\n",
        "\n",
        "\n",
        " \n",
        "\n",
        "\n",
        "\n"
      ]
    },
    {
      "cell_type": "markdown",
      "metadata": {
        "id": "0dD4ToquwcyA"
      },
      "source": [
        "\n",
        "2.   **Add column and expand `StoredFwdTracks` table in `AnalysisDataModel.h`**\n",
        "> Under the namespace `fwdtrack`: (it will be a static column, read from the AO2D)\n",
        ">\n",
        ">>`DECLARE_SOA_COLUMN(MCHBitMap, MchBitMap, uint16_t);`\n",
        ">\n",
        ">Under the namespace aod:\n",
        ">\n",
        ">>`DECLARE_SOA_TABLE_FULL(StoredFwdTracks,...`\n",
        ">>\n",
        ">>`..., fwdtrack::MCHBitMap);`\n",
        "\n",
        "\n"
      ]
    },
    {
      "cell_type": "markdown",
      "metadata": {
        "id": "vPX5U9FIzj-a"
      },
      "source": [
        "\n",
        "\n",
        "# *  Expand the cluster table with a chamber index\n",
        "\n",
        "This is to know the clusters attached to the tracks on each chamber\n",
        "\n",
        "\n",
        "\n",
        ">```\n",
        ">namespace muoncluster\n",
        ">{\n",
        ">DECLARE_SOA_INDEX_COLUMN_FULL(Track, track, int, Muons, \"\"); //! points to a >muon track in the Muon table\n",
        ">DECLARE_SOA_COLUMN(X, x, float);                             //!\n",
        ">DECLARE_SOA_COLUMN(Y, y, float);                             //!\n",
        ">DECLARE_SOA_COLUMN(Z, z, float);                             //!\n",
        ">DECLARE_SOA_COLUMN(ErrX, errX, float);                       //!\n",
        ">DECLARE_SOA_COLUMN(ErrY, errY, float);                       //!\n",
        ">DECLARE_SOA_COLUMN(Charge, charge, float);                   //!\n",
        ">DECLARE_SOA_COLUMN(Chi2, chi2, float);                       //!\n",
        ">} // namespace muoncluster\n",
        ">\n",
        ">DECLARE_SOA_TABLE(MuonClusters, \"AOD\", \"MUONCLUSTER\", //!\n",
        ">                  muoncluster::TrackId,\n",
        ">                  muoncluster::X, muoncluster::Y, muoncluster::Z,\n",
        ">                  muoncluster::ErrX, muoncluster::ErrY,\n",
        ">                  muoncluster::Charge, muoncluster::Chi2);\n",
        ">\n",
        ">```\n",
        "\n",
        "\n",
        "\n"
      ]
    }
  ]
}